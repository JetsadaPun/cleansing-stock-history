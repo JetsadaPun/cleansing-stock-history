{
 "cells": [
  {
   "cell_type": "code",
   "execution_count": 10,
   "metadata": {},
   "outputs": [
    {
     "name": "stdout",
     "output_type": "stream",
     "text": [
      "     Month      Price       Open   High    Low         Vol.  Change %\n",
      "0  2014-01  36.349524  36.427619  37.89  34.63  932100000.0  0.068095\n",
      "1  2014-02  37.241579  37.230000  38.46  35.69  718230000.0  0.072105\n",
      "2  2014-03  38.985238  38.931429  41.50  37.49  778570000.0  0.332857\n",
      "3  2014-04  40.134286  40.213333  41.66  38.90  746150000.0 -0.060476\n",
      "4  2014-05  39.920000  39.901429  40.97  38.51  574390000.0  0.066190\n"
     ]
    }
   ],
   "source": [
    "import pandas as pd\n",
    "\n",
    "data = pd.read_csv(\"Microsoft Stock Price History.csv\")\n",
    "\n",
    "data['Date'] = pd.to_datetime(data['Date'])\n",
    "\n",
    "def convert_volume(vol):\n",
    "    if isinstance(vol, str):\n",
    "        if 'M' in vol:\n",
    "            return float(vol.replace('M', '')) * 1_000_000\n",
    "        elif 'K' in vol:  \n",
    "            return float(vol.replace('K', '')) * 1_000\n",
    "        else:  \n",
    "            return None\n",
    "    return vol  \n",
    "\n",
    "data['Vol.'] = data['Vol.'].apply(convert_volume)\n",
    "\n",
    "data['Change %'] = data['Change %'].str.replace('%', '').astype(float)\n",
    "\n",
    "data = data.dropna(subset=['Price', 'Open', 'High', 'Low', 'Vol.', 'Change %'])\n",
    "\n",
    "data['Month'] = data['Date'].dt.to_period('M')\n",
    "\n",
    "monthly_data = data.groupby('Month').agg({\n",
    "    'Price': 'mean',\n",
    "    'Open': 'mean',\n",
    "    'High': 'max',\n",
    "    'Low': 'min',\n",
    "    'Vol.': 'sum',\n",
    "    'Change %': 'mean'\n",
    "}).reset_index()\n",
    "\n",
    "monthly_data.to_csv(\"monthly_stock_Microsoft Stock Price History.csv\", index=False)\n",
    "\n",
    "print(monthly_data.head())\n"
   ]
  }
 ],
 "metadata": {
  "kernelspec": {
   "display_name": "vevn",
   "language": "python",
   "name": "python3"
  },
  "language_info": {
   "codemirror_mode": {
    "name": "ipython",
    "version": 3
   },
   "file_extension": ".py",
   "mimetype": "text/x-python",
   "name": "python",
   "nbconvert_exporter": "python",
   "pygments_lexer": "ipython3",
   "version": "3.11.7"
  }
 },
 "nbformat": 4,
 "nbformat_minor": 2
}
